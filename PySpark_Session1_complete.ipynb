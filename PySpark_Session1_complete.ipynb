{
 "cells": [
  {
   "cell_type": "markdown",
   "id": "7aa24d9a-9f27-4c6e-a2c5-105da7cfe881",
   "metadata": {},
   "source": [
    "Big data analysis with PySpark\n",
    "\n",
    "Make sure you install PySpark library from Anaconda prompt (windows) or terminal (Mac) using the following command:\n",
    "\n",
    "conda install -c conda-forge pyspark\n",
    "\n",
    "and then run the following commands in your terminal (Mac) or Anaconda prompt (windows):\n",
    "\n",
    "set PYSPARK_DRIVER_PYTHON=jupyter\n",
    "set PYSPARK_DRIVER_PYTHON_OPTS='notebook'\n",
    "\n",
    "\n",
    "When you done, run the following test code to make sure PySpark works, if you don't get any errors, you are good to go!\n"
   ]
  },
  {
   "cell_type": "code",
   "execution_count": 1,
   "id": "12e443a5-aab7-4e2a-b064-9e136023cdf6",
   "metadata": {},
   "outputs": [
    {
     "data": {
      "text/plain": [
       "[[], [1], [2], [3], [4], [5], [], [6], [7], [8], [9], [10]]"
      ]
     },
     "execution_count": 1,
     "metadata": {},
     "output_type": "execute_result"
    }
   ],
   "source": [
    "# Big Data Analysis with PySpark\n",
    "# test code (only run this code after you install PySpark and Set the parameters in Anaconda Prompt or Terminal\n",
    "\n",
    "import pyspark\n",
    "sc = pyspark.SparkContext()\n",
    "some_numbers = [1,2,3,4,5,6,7,8,9,10]\n",
    "my_first_rdd = sc.parallelize(some_numbers)\n",
    "my_first_rdd.glom().collect()"
   ]
  },
  {
   "cell_type": "markdown",
   "id": "eecaa91a-1852-4f5e-97cb-1edd0d803cfe",
   "metadata": {},
   "source": [
    "In this section you will dive deeper into the Spark Core API or Spark RDD API. You will not only learn by example how to write code using this API, but you will also learn about important properties of RDDs and Spark itself. Let's start by importing PySpark - a package that enables you to use Spark APIs in Python.\n"
   ]
  },
  {
   "cell_type": "code",
   "execution_count": 8,
   "id": "56383f54-41be-436a-9777-dcaec852cac2",
   "metadata": {},
   "outputs": [],
   "source": [
    "# how to import PySpark\n",
    "import pyspark\n"
   ]
  },
  {
   "cell_type": "code",
   "execution_count": 9,
   "id": "c546e656-d49c-476a-9399-8320bf710c43",
   "metadata": {},
   "outputs": [],
   "source": [
    "# Let's create a Spark cluster's connection\n",
    "sc = pyspark.SparkContext()"
   ]
  },
  {
   "cell_type": "markdown",
   "id": "c411d6fa-bc63-4321-9e9e-4f74049f4dc7",
   "metadata": {},
   "source": [
    "SparkContext is the primary point of entry for Spark capabilities. A SparkContext represents a Spark cluster’s connection that is useful in building RDDs and broadcast variables on the cluster. It enables your Spark application to connect to the Spark Cluster using Resource Manager. After creating the SparkContext, you can use it to create RDDs, broadcast variables, and accumulators, as well as access Spark services and perform jobs. All of this can be done until SparkContext is terminated. \n",
    "\n",
    "Now that we have our Spark session initialized on the sc object, we are ready to create RDDs. There are two ways to create an RDD and have a Spark partition and distribute data across the cluster. Let's look at the first one - the parallelize method (usually used for small to medium size datasets):"
   ]
  },
  {
   "cell_type": "code",
   "execution_count": 3,
   "id": "36e86e45-8749-46c7-aeed-03d5f7d290df",
   "metadata": {},
   "outputs": [
    {
     "name": "stdout",
     "output_type": "stream",
     "text": [
      "ParallelCollectionRDD[0] at readRDDFromFile at PythonRDD.scala:287\n"
     ]
    }
   ],
   "source": [
    "# Let's create an RDD containing a small list with integers for elements:\n",
    "\n",
    "some_numbers = [1,2,3,4,5,6,7,8,9,10]\n",
    "my_first_rdd = sc.parallelize(some_numbers)\n",
    "print(my_first_rdd)\n"
   ]
  },
  {
   "cell_type": "markdown",
   "id": "eb3b8eea-84df-4414-aae0-4d32df04de98",
   "metadata": {},
   "source": [
    "The parallelize() method in PySpark is used to create an RDD (Resilient Distributed Dataset) from a list or any other iterable collection in Python. This method is particularly useful for testing and small datasets as it allows you to quickly create an RDD without reading data from external storage. The second method to create an RDD and have a Spark partition is read from external storage. This method involves creating an RDD by reading data from external storage systems. This is the common method used for handling large datasets.\n",
    "\n",
    "So what happened here? Spark took our list of integers and broke it down into several chunks, called Partitions. Each of these partitions can be operated on independently from each other by Executors, enabling Spark to \"divide and conquer\" and perform computations on your data in parallel.\n",
    "\n",
    "The output message gives us valuable information about RDD. \n",
    "\n",
    "ParallelCollectionRDD: This indicates the type of RDD. In PySpark, ParallelCollectionRDD is an RDD that is created by parallelizing a local collection (like a list or an array) into an RDD.\n",
    "\n",
    "32: This number typically represents a unique identifier for the RDD within the context of the Spark application. It's an internal ID used by Spark to track the RDD.\n",
    "\n",
    "ReadRDDFromFile: refers to an internal method used by Spark when handling data read from local collections or files.\n",
    "\n",
    "PythonRDD.scala: This specifies the source file in the Spark codebase where the relevant class or method is defined. PythonRDD is a class that handles RDD operations in the context of Python, part of PySpark's internals.\n",
    "\n",
    "287: This indicates the line number in the PythonRDD.scala file where the operation to create this RDD was invoked or defined. This is useful for debugging purposes and understanding the internals of Spark.\n"
   ]
  },
  {
   "cell_type": "code",
   "execution_count": 4,
   "id": "3b7fba29-0048-43ee-8fd2-905915395f6f",
   "metadata": {},
   "outputs": [
    {
     "data": {
      "text/plain": [
       "12"
      ]
     },
     "execution_count": 4,
     "metadata": {},
     "output_type": "execute_result"
    }
   ],
   "source": [
    "# Let's see how many partitions Spark broke our list of numbers into\n",
    "my_first_rdd.getNumPartitions()\n"
   ]
  },
  {
   "cell_type": "markdown",
   "id": "06c5f009-a5a5-4b5d-8486-b24ed0a54706",
   "metadata": {},
   "source": [
    "getNumPartitions() method returns the number of partitions created by Spark to parallelize your program."
   ]
  },
  {
   "cell_type": "code",
   "execution_count": 5,
   "id": "5ec5a4e0-9417-49fc-ab2a-9b56fcf7b875",
   "metadata": {},
   "outputs": [
    {
     "data": {
      "text/plain": [
       "[[], [1], [2], [3], [4], [5], [], [6], [7], [8], [9], [10]]"
      ]
     },
     "execution_count": 5,
     "metadata": {},
     "output_type": "execute_result"
    }
   ],
   "source": [
    "#Let's try to collect the actual data from cluster!\n",
    "\n",
    "my_first_rdd.glom().collect()"
   ]
  },
  {
   "cell_type": "raw",
   "id": "31db878a-5aa8-4574-bc82-21b9ab3998d4",
   "metadata": {},
   "source": [
    "Let's analyze the code components:\n",
    "\n",
    "Here, glom() method can be used to gather each partition's data into a list, and collect() method can be used to preview the partitions. Together, they will allow you to see the contents of partitions as a list.\n",
    "\n",
    "The number of Partitions is one of the important parameters of a Spark program that you need to be aware of. Split your data into too few partitions and Spark will not be able to do as much work in parallel as your Cluster hardware enables it to do; split it into too many and you may end up with empty partitions or not fully taking advantage of parallelism again, by forcing Executors to perform lots of very small tasks sequentially.\n",
    "\n",
    "When you create an RDD using parallelize(), you can specify the number of partitions as a second argument. If you don't specify it, Spark will use a default value, which is typically the total number of cores on your local machine when running in local mode.\n",
    "\n",
    "The number of partitions is not directly equal to the number of CPUs, but there is a relationship between them. In general, you want to have enough partitions to keep all your CPUs busy. However, the optimal number of partitions depends on various factors including the nature of the data, the complexity of the transformations, and the underlying infrastructure.\n",
    "\n",
    "A common rule of thumb is to have at least as many partitions as the number of cores available in your cluster. In many cases, having 2-3 times the number of partitions as the total number of cores can provide better parallelism and load balancing. For example, if you have a cluster with 16 cores, you might start with 32-48 partitions.\n",
    "\n",
    "Having more partitions than cores ensures that there are enough tasks to keep all the cores busy. If you have exactly the same number of partitions as cores, once a task finishes, that core might be idle if there are no more tasks left to process. By having more partitions, you ensure that new tasks are always ready to be picked up by cores as soon as they become free.\n",
    "\n",
    "Example: Suppose you have 16 cores and exactly 16 partitions. If one task finishes early, that core will sit idle until all other tasks finish. With 32 partitions, as soon as a core finishes a task, it can immediately pick up another one, improving overall resource utilization.\n",
    "\n",
    "In windows, to figure out how many cores your PC has, Press Ctrl + Shift + Esc to open Task Manager. Select the Performance tab and select CPU to see how many cores and logical processors your PC has. Here the physical cores are number of physical cores, actual hardware components. Logical cores are the number of physical cores times the number of threads that can run on each core through the use of hyperthreading. For example, my 6-core processor runs two threads per core, so I have 12 logical processors, and therefore, Spark usually use 12 partitions as a default value.\n"
   ]
  },
  {
   "cell_type": "code",
   "execution_count": 6,
   "id": "20bf95be-c7f5-428f-8654-c2b13d58269e",
   "metadata": {},
   "outputs": [
    {
     "data": {
      "text/plain": [
       "10"
      ]
     },
     "execution_count": 6,
     "metadata": {},
     "output_type": "execute_result"
    }
   ],
   "source": [
    "#Let's set the number of partions to 10\n",
    "my_first_rdd_repartitioned = my_first_rdd.repartition(10)\n",
    "my_first_rdd_repartitioned.getNumPartitions()\n"
   ]
  },
  {
   "cell_type": "markdown",
   "id": "c75d3498-2f29-4742-a6aa-93e3b5627a67",
   "metadata": {},
   "source": [
    "Using the time library, we can measure the time required to complete the tasks and optimize the number of partitions when using PySpark. For collecting the above data from Spark cluster, let’s measure the time:"
   ]
  },
  {
   "cell_type": "code",
   "execution_count": 7,
   "id": "48f8c052-afd9-4b8b-a582-9ac91b9ff802",
   "metadata": {},
   "outputs": [
    {
     "name": "stdout",
     "output_type": "stream",
     "text": [
      "Parallel Runtime: 9.390958547592163 seconds\n"
     ]
    }
   ],
   "source": [
    "# Measure the time of collecting data using time library\n",
    "\n",
    "import time\n",
    "start_time = time.time()  # Record start time\n",
    "\n",
    "my_first_rdd.glom().collect()\n",
    "\n",
    "end_time = time.time()  # Record end time\n",
    "\n",
    "parallel_time = end_time - start_time\n",
    "print(\"Parallel Runtime:\", parallel_time, \"seconds\")\n"
   ]
  },
  {
   "cell_type": "markdown",
   "id": "db500ef1-a0ba-48e9-bd50-b21ff3f8b362",
   "metadata": {},
   "source": [
    "Exercise #1:\n",
    "\n",
    "Change the number of partitions and see how the time required for completing this parallel task will vary with the number of partitions. Think about the trend you observe and try to explain the trend."
   ]
  },
  {
   "cell_type": "code",
   "execution_count": 9,
   "id": "9f7a4a0e-ac30-4a06-824b-585bde6cb636",
   "metadata": {},
   "outputs": [
    {
     "name": "stdout",
     "output_type": "stream",
     "text": [
      "Parallel Runtime: 9.738492727279663 seconds\n"
     ]
    }
   ],
   "source": [
    "# Exercise 1 solution:\n",
    "\n",
    "\n",
    "start_time = time.time()  # Record start time\n",
    "\n",
    "my_first_rdd_repartitioned = my_first_rdd.repartition(5)\n",
    "my_first_rdd.glom().collect()\n",
    "\n",
    "end_time = time.time()  # Record end time\n",
    "\n",
    "parallel_time = end_time - start_time\n",
    "print(\"Parallel Runtime:\", parallel_time, \"seconds\")"
   ]
  },
  {
   "cell_type": "raw",
   "id": "fa718275-babf-4667-9be3-67f6bb13b3ff",
   "metadata": {},
   "source": [
    "The RDD API has two main types of methods: Transformations and Actions. In a nutshell, Transformations are operations carried out on RDDs that return other RDDs. Actions are operations carried out on RDDs that do not return other RDDs. On the line above, repartition is a Transformation and getNumPartitions is an Action. Let's look at a few more examples to see what that means in practice:\n"
   ]
  },
  {
   "cell_type": "code",
   "execution_count": 10,
   "id": "db17f6a4-420b-4594-9165-527170f65e72",
   "metadata": {},
   "outputs": [
    {
     "data": {
      "text/plain": [
       "PythonRDD[20] at RDD at PythonRDD.scala:53"
      ]
     },
     "execution_count": 10,
     "metadata": {},
     "output_type": "execute_result"
    }
   ],
   "source": [
    "# Our first meaningful transformation to our RDD: add 1 to each element\n",
    "\n",
    "my_first_rdd_repartitioned.map(lambda element : element+1)\n"
   ]
  },
  {
   "cell_type": "raw",
   "id": "d1703d36-6556-46d1-926d-37cb9e148e1d",
   "metadata": {},
   "source": [
    "In this example, we used map() method with lambda expression. The map method applies a function to each element of each partition of an RDD. Python Lambda Functions are anonymous functions meaning that the function is without a name. As we already know the def keyword is used to define a normal function in Python. Similarly, the lambda keyword is used to define an anonymous function in Python. This line of code is performing a transformation on an existing RDD (my_first_rdd_repartitioned). Specifically, it uses the map function to apply a lambda function to each element of the RDD. The lambda function takes each element and adds 1 to it. In this context, the lambda function is applied to each element of the RDD.\n",
    "\n",
    "\n",
    "The output above tells us that this returned another RDD. Can we get its contents back from the cluster?\n"
   ]
  },
  {
   "cell_type": "code",
   "execution_count": 11,
   "id": "a9688e3c-d192-4b83-aaea-0979613b8313",
   "metadata": {},
   "outputs": [
    {
     "data": {
      "text/plain": [
       "[9, 5, 6, 7, 3, 10, 1, 2, 4, 8]"
      ]
     },
     "execution_count": 11,
     "metadata": {},
     "output_type": "execute_result"
    }
   ],
   "source": [
    "# The collect() method brings the contents of an RDD from the cluster back to the driver\n",
    "\n",
    "my_first_rdd_repartitioned.collect()\n"
   ]
  },
  {
   "cell_type": "markdown",
   "id": "55e3d201-959d-4add-ae1b-c249f138777d",
   "metadata": {},
   "source": [
    "The numbers may be shuffled, but this is still our list of integers from 1 to 10... we had applied a transformation to our RDD, which created another RDD, but we had no way to refer to this new RDD!\n",
    "\n",
    "To summarize: there are two types of RDD operations: transformations, which yield a new RDD, and actions, which return a value. "
   ]
  },
  {
   "cell_type": "code",
   "execution_count": 12,
   "id": "059c824b-0c5a-48a5-97dd-a7b3193917ee",
   "metadata": {},
   "outputs": [
    {
     "data": {
      "text/plain": [
       "[2, 3, 4, 5, 6, 7, 8, 9, 10, 11]"
      ]
     },
     "execution_count": 12,
     "metadata": {},
     "output_type": "execute_result"
    }
   ],
   "source": [
    "# RDDs are immutable! Our transformation actually created another RDD we had no way to refer to on the Driver!\n",
    "\n",
    "my_second_rdd = my_first_rdd.map(lambda element : element+1)\n",
    "\n",
    "my_second_rdd.collect()\n"
   ]
  },
  {
   "cell_type": "markdown",
   "id": "eb746387-23da-4e66-b605-b2d6cdabbd5d",
   "metadata": {},
   "source": [
    "By creating new RDDs with each Transformation, Spark actually provides a type of fault-tolerance! It records these transformations, so if ever an entire node or an Executor inside a node fails, Spark can immediately recompute your RDDs and your work isn't lost."
   ]
  },
  {
   "cell_type": "code",
   "execution_count": 13,
   "id": "42e2717e-2f0f-48b9-b60b-d7bf21452168",
   "metadata": {},
   "outputs": [
    {
     "data": {
      "text/plain": [
       "b'(12) PythonRDD[21] at collect at C:\\\\Users\\\\yemon\\\\AppData\\\\Local\\\\Temp\\\\ipykernel_31516\\\\3473384859.py:5 []\\n |   ParallelCollectionRDD[0] at readRDDFromFile at PythonRDD.scala:287 []'"
      ]
     },
     "execution_count": 13,
     "metadata": {},
     "output_type": "execute_result"
    }
   ],
   "source": [
    "# Spark preserves RDD lineage to automatically recompute them if they are lost!\n",
    "\n",
    "my_second_rdd.toDebugString()\n"
   ]
  },
  {
   "cell_type": "markdown",
   "id": "c08c57f9-b3d0-4398-bbf4-57e9734c3ea2",
   "metadata": {},
   "source": [
    "Breakdown of the Output\n",
    "b': The b prefix indicates that the string is a byte string. This can happen if the output was encoded in bytes. It's typically seen in Python 3 when dealing with binary data.\n",
    "\n",
    "(12): This number represents the number of partitions in the RDD. Partitions are subsets of the data that Spark processes in parallel. Here, the RDD has 12 partitions.\n",
    "\n",
    "PythonRDD[33]: This indicates the type and unique ID of the RDD. PythonRDD suggests this RDD was created or transformed using a Python function. The ID [33] is a unique identifier for this RDD.\n",
    "\n",
    "at collect at C:\\\\Users\\\\yemon\\\\AppData\\\\Local\\\\Temp\\\\ipykernel_34836\\\\3473384859.py This shows where the collect action was called on the RDD. The path points to the file and line number in your local environment where this action was invoked.\n",
    "\n",
    "The output indicates the following sequence of events for the RDD:\n",
    "\n",
    "ParallelCollectionRDD[32]: An RDD was created by parallelizing a local collection. This is typically done using sc.parallelize().\n",
    "\n",
    "PythonRDD[33]: This RDD is derived from ParallelCollectionRDD[32] and is transformed using a Python function.\n",
    "\n",
    "collect action: The collect action was called on PythonRDD[33], triggering the computation to return the RDD's elements to the driver.\n",
    "\n",
    "\n",
    "In spark, dependencies in the RDDs are logged in as a graph. In simpler words , every step is part of lineage. By calling the toDebugString method you are essentially asking to get this lineage graph(aka chain of every individual step that happened i.e type of RDD created and method used to create it) to be displayed. The code my_second_rdd.toDebugString() is used in PySpark to get a detailed, human-readable description of an RDD's lineage. This method is particularly useful for understanding how an RDD was constructed, what transformations were applied, and where it sits in the overall computation graph.\n",
    "\n",
    "\n",
    "\n",
    "Now wait a minute... if Spark creates RDDs at every Transformation and Spark keeps things in memory... won't you quickly run out of memory by applying Transformations to RDDs?\n",
    "\n",
    "The answer is: no! Spark performs \"Lazy-Evaluation\". This means all Spark does is record your transformations in a directed acrlyc graph (DAG) without actually computing anything or using up any extra memory until an Action is called on an RDD!\n",
    "\n",
    "Let's get a feeling of this concept by applying a long chain of Transformations to an RDD and timing it.\n"
   ]
  },
  {
   "cell_type": "code",
   "execution_count": 14,
   "id": "00d19a59-c9e2-4290-8121-d893ad926a31",
   "metadata": {},
   "outputs": [
    {
     "name": "stdout",
     "output_type": "stream",
     "text": [
      "CPU times: total: 31.2 ms\n",
      "Wall time: 997 µs\n"
     ]
    }
   ],
   "source": [
    "# Spark performs Lazy-Evaluation: No transformation\n",
    "#actually gets computed until an \"action\" is called on an RDD\n",
    "\n",
    "%time my_third_rdd = my_first_rdd_repartitioned.map(lambda element : element+1).\\\n",
    "filter(lambda element : element % 2 ==0).map(lambda element : element+2)\n"
   ]
  },
  {
   "cell_type": "markdown",
   "id": "eb35a612-ae35-4c30-a021-8f9bbd754f23",
   "metadata": {},
   "source": [
    "It ran almost instantly! This code snippet performs a series of transformations on an existing RDD (my_first_rdd_repartitioned) and measures the execution time of these operations using the %time magic command (which is available in Jupyter notebooks and IPython environments). Filter method is a new transformation here. This transformation filters the RDD, keeping only the elements that satisfy the condition element % 2 == 0 (i.e., the element is even). The last map transformation applies another lambda function to each remaining element of the RDD, adding 2 to each even element.\n",
    "\n",
    "Now let's call an Action on this RDD and time it:"
   ]
  },
  {
   "cell_type": "code",
   "execution_count": 15,
   "id": "65732aa0-e894-4708-ab4b-8f7902a40b10",
   "metadata": {},
   "outputs": [
    {
     "name": "stdout",
     "output_type": "stream",
     "text": [
      "CPU times: total: 15.6 ms\n",
      "Wall time: 4.03 s\n"
     ]
    },
    {
     "data": {
      "text/plain": [
       "40"
      ]
     },
     "execution_count": 15,
     "metadata": {},
     "output_type": "execute_result"
    }
   ],
   "source": [
    "# The \"reduce\" method is an \"action\". For a complete list of actions,\n",
    "#see: https://spark.apache.org/docs/latest/rdd-programming-guide.html#actions\n",
    "\n",
    "%time my_third_rdd.reduce(lambda a,b : a+b)\n"
   ]
  },
  {
   "cell_type": "markdown",
   "id": "4ad57b28-ea5f-412c-8b0f-4f82553d9885",
   "metadata": {},
   "source": [
    "The reduce function is an action in Spark that aggregates the elements of an RDD using a specified binary function. It takes a function that operates on two elements of the RDD at a time and returns a single aggregated result. The function provided here is a lambda function lambda a, b: a + b, which sums two elements. This lambda function takes two arguments a and b and returns their sum a + b. The reduce operation proceeds by combining elements of the RDD pairwise until only a single result remains.\n",
    "\n",
    "And here is some good news for those of you who can't get used to the \"lambda function\" syntax. This also works just fine:"
   ]
  },
  {
   "cell_type": "code",
   "execution_count": 16,
   "id": "48abddf9-b7c0-4828-93e5-35bbdc699e62",
   "metadata": {},
   "outputs": [
    {
     "name": "stdout",
     "output_type": "stream",
     "text": [
      "CPU times: total: 0 ns\n",
      "Wall time: 4.12 s\n"
     ]
    },
    {
     "data": {
      "text/plain": [
       "40"
      ]
     },
     "execution_count": 16,
     "metadata": {},
     "output_type": "execute_result"
    }
   ],
   "source": [
    "def add_numbers(a,b):\n",
    "\treturn a+b\n",
    "\n",
    "%time my_third_rdd.reduce(add_numbers)\n"
   ]
  },
  {
   "cell_type": "markdown",
   "id": "9c8f9e61-232b-4e7c-9f04-739dddf9f947",
   "metadata": {},
   "source": [
    "RDDs are a pretty powerful concept and if you take anything home from this workshop let it be this: RDDs are a simple way of performing Data Parallelism. In other words, you can write your code almost the exact same way you would in a serial program (i.e., not parallel) and the \"parallel\" part simply means your code will run against different chunks of your data at the same time. All you need to do most of the time is wrap your usual code with one or more RDD API methods and be aware of the nature of the elements in your Partitions, so you pick the right method. Once you've done that, Spark takes care of performing Data Parallelism for you! Here is a slightly more difficult example - let's use Spark to multiply each element of a numpy array by a random number.\n",
    "\n",
    "What makes this more difficult? Now we are doing Data Parallelism not on a native Python object like before (a list), but on an object defined by a non-native library: numpy.\n",
    "\n",
    "We start by creating this object: a 1-d array of 100 elements.\n"
   ]
  },
  {
   "cell_type": "code",
   "execution_count": 17,
   "id": "288d9c59-d943-4e92-8832-fcbaa478c17e",
   "metadata": {},
   "outputs": [],
   "source": [
    "import numpy as np\n",
    "\n",
    "an_object = np.linspace(0,1,100)\n",
    "\n",
    "an_object\n",
    "\n",
    "my_new_rdd = sc.parallelize(an_object)\n"
   ]
  },
  {
   "cell_type": "markdown",
   "id": "2dcb9c2f-cd66-47ca-b371-f4338df761c3",
   "metadata": {},
   "source": [
    "Now you might be tempted to do like we did before and just do what you would do on your own workstation without Spark:"
   ]
  },
  {
   "cell_type": "code",
   "execution_count": 18,
   "id": "c9b0f2ff-a939-44bb-a2c2-300c9a7a78c7",
   "metadata": {},
   "outputs": [
    {
     "data": {
      "text/plain": [
       "[0.0,\n",
       " 0.00826538313486573,\n",
       " 0.00034108213014716,\n",
       " 0.026812767794947498,\n",
       " 0.007235315937175272,\n",
       " 0.029109312117678907,\n",
       " 0.04107054629664143,\n",
       " 0.012208289992239559,\n",
       " 0.057203165983461174,\n",
       " 0.015475122047686862,\n",
       " 0.077854976309951,\n",
       " 0.0823808728287687,\n",
       " 0.04470566094074968,\n",
       " 0.1048481517951939,\n",
       " 0.12861563859490485,\n",
       " 0.060642030363338706,\n",
       " 0.0600329696776155,\n",
       " 0.027772788037093744,\n",
       " 0.12521546532414496,\n",
       " 0.14024540621533166,\n",
       " 0.03968850460762085,\n",
       " 0.0835821717985252,\n",
       " 0.21339468099723988,\n",
       " 0.10119247585378977,\n",
       " 0.1754062285719478,\n",
       " 0.06624657490667155,\n",
       " 0.18516873514657733,\n",
       " 0.24917583306224958,\n",
       " 0.23350067589227638,\n",
       " 0.132689720946891,\n",
       " 0.1495203919866341,\n",
       " 0.18763646831729097,\n",
       " 0.3176066531714394,\n",
       " 0.04519275598044707,\n",
       " 0.16286996963412897,\n",
       " 0.08846320582767389,\n",
       " 0.12999915830152123,\n",
       " 0.22621506508602446,\n",
       " 0.14696706910942336,\n",
       " 0.35885119948622957,\n",
       " 0.05333791691843269,\n",
       " 0.2489544032213848,\n",
       " 0.09133781481247998,\n",
       " 0.15452764564314295,\n",
       " 0.39157564837712616,\n",
       " 0.060955751711326285,\n",
       " 0.4242407752005297,\n",
       " 0.11247112999197895,\n",
       " 0.17156168119191198,\n",
       " 0.40914552810012966,\n",
       " 0.2122219068535117,\n",
       " 0.31228028457989493,\n",
       " 0.44183804951331845,\n",
       " 0.2557264239067495,\n",
       " 0.5256715692822114,\n",
       " 0.33253827661614954,\n",
       " 0.35318597414890807,\n",
       " 0.3792158406738135,\n",
       " 0.2220608148528443,\n",
       " 0.2573834607504428,\n",
       " 0.17107423545554465,\n",
       " 0.558911607383538,\n",
       " 0.17509291670053717,\n",
       " 0.11839746455568978,\n",
       " 0.5645003194176119,\n",
       " 0.267060382313325,\n",
       " 0.6630292056661803,\n",
       " 0.5333212614464792,\n",
       " 0.45641405390511486,\n",
       " 0.06754729690978144,\n",
       " 0.5406746859831942,\n",
       " 0.42787673499071294,\n",
       " 0.3392991553867365,\n",
       " 0.6912547649335217,\n",
       " 0.5078871731845639,\n",
       " 0.07655644315730843,\n",
       " 0.5462362848676144,\n",
       " 0.16470883963900046,\n",
       " 0.3388444734458352,\n",
       " 0.5265134981842405,\n",
       " 0.3766301361989211,\n",
       " 0.4703758127626047,\n",
       " 0.7954342164304785,\n",
       " 0.13756757809209036,\n",
       " 0.47180597080800035,\n",
       " 0.4046635335519133,\n",
       " 0.06507759070431841,\n",
       " 0.10624901485255803,\n",
       " 0.783720531294102,\n",
       " 0.3264822986933383,\n",
       " 0.10629846933067769,\n",
       " 0.2994495635810948,\n",
       " 0.9042775521381282,\n",
       " 0.13879381526522552,\n",
       " 0.4648710829731566,\n",
       " 0.1294952348632319,\n",
       " 0.06466499518094718,\n",
       " 0.2780879323736293,\n",
       " 0.4003507760792532,\n",
       " 0.40198345102163513]"
      ]
     },
     "execution_count": 18,
     "metadata": {},
     "output_type": "execute_result"
    }
   ],
   "source": [
    "my_new_rdd.map(lambda element : element * np.random.rand()).collect()"
   ]
  },
  {
   "cell_type": "markdown",
   "id": "66c2dc21-b4f7-421b-bdb2-1144812d238a",
   "metadata": {},
   "source": [
    "This should have failed if you are running on a Cluster (as opposed to running Spark on a single computer). Why? Well, you imported the numpy library on the Driver, but you are asking the Executors to use it... you need to tell the Executors to import numpy too!"
   ]
  },
  {
   "cell_type": "code",
   "execution_count": 19,
   "id": "8635237f-aaba-4ed5-8c4c-ca7aca913360",
   "metadata": {},
   "outputs": [
    {
     "data": {
      "text/plain": [
       "[0.0,\n",
       " 0.00812202160953058,\n",
       " 0.009888215613162834,\n",
       " 0.022715492630669448,\n",
       " 0.008659391685772757,\n",
       " 0.03448168602599533,\n",
       " 0.027560703653753585,\n",
       " 0.016443101228011472,\n",
       " 0.018815385184661183,\n",
       " 0.0876795285736796,\n",
       " 0.05417207548205051,\n",
       " 0.041080454767260834,\n",
       " 0.11426797302917423,\n",
       " 0.048251363091528394,\n",
       " 0.11467419587443911,\n",
       " 0.04053628403353266,\n",
       " 0.14315245912768274,\n",
       " 0.03198870335061044,\n",
       " 0.09897123735442913,\n",
       " 0.13158943507542234,\n",
       " 0.057051633321580565,\n",
       " 0.07462888455352489,\n",
       " 0.17398915898689493,\n",
       " 0.09718231748087326,\n",
       " 0.035949209765678815,\n",
       " 0.24998969499875554,\n",
       " 0.24283422445191372,\n",
       " 0.2411938810633507,\n",
       " 0.14492573438244377,\n",
       " 0.1372208308889884,\n",
       " 0.14542315429596428,\n",
       " 0.032982778206575324,\n",
       " 0.0009364628095138021,\n",
       " 0.3289465565571908,\n",
       " 0.15724359192730175,\n",
       " 0.08573953761873887,\n",
       " 0.3231652712873657,\n",
       " 0.08366498697149989,\n",
       " 0.0010921911465743566,\n",
       " 0.007830278207876781,\n",
       " 0.2857534928188237,\n",
       " 0.0025939463236285044,\n",
       " 0.35460982735908814,\n",
       " 0.4029073294340829,\n",
       " 0.1592006709400899,\n",
       " 0.061617978619951164,\n",
       " 0.022034671828852676,\n",
       " 0.47221313002036847,\n",
       " 0.19850033511308007,\n",
       " 0.3841264031971524,\n",
       " 0.06164236234763649,\n",
       " 0.12606492199646108,\n",
       " 0.20464861481715962,\n",
       " 0.44772288018840556,\n",
       " 0.3737249404345496,\n",
       " 0.1357595790114423,\n",
       " 0.3068871526997319,\n",
       " 0.24745960650199217,\n",
       " 0.4894175322746808,\n",
       " 0.48998504701673246,\n",
       " 0.2882921067121855,\n",
       " 0.43930888039273763,\n",
       " 0.023769653753490615,\n",
       " 0.48301165510888344,\n",
       " 0.49283022788268444,\n",
       " 0.5636962208843017,\n",
       " 0.37827699793171093,\n",
       " 0.5943556429056148,\n",
       " 0.08347853882921882,\n",
       " 0.478788353194445,\n",
       " 0.2210365631637179,\n",
       " 0.526336836924064,\n",
       " 0.1748594774769513,\n",
       " 0.720042167144451,\n",
       " 0.57372047662787,\n",
       " 0.5194911380794772,\n",
       " 0.0633711030908982,\n",
       " 0.0021973378424855225,\n",
       " 0.2810918182485001,\n",
       " 0.07200696008830526,\n",
       " 0.6880054995294939,\n",
       " 0.12983157623216973,\n",
       " 0.3541145088074981,\n",
       " 0.4552082319333778,\n",
       " 0.7108193889589971,\n",
       " 0.6587078177071731,\n",
       " 0.37940887955315433,\n",
       " 0.13988721475755408,\n",
       " 0.5596347244453019,\n",
       " 0.6581238583612439,\n",
       " 0.3710989752961462,\n",
       " 0.31532070183955146,\n",
       " 0.033371336498854175,\n",
       " 0.6788715704432073,\n",
       " 0.5975972840264809,\n",
       " 0.875140146929553,\n",
       " 0.6922704640849411,\n",
       " 0.26332191700865903,\n",
       " 0.48351360354284123,\n",
       " 0.9839795631415579]"
      ]
     },
     "execution_count": 19,
     "metadata": {},
     "output_type": "execute_result"
    }
   ],
   "source": [
    "#This code defines a function that multiplies a single element by a random number\n",
    "#and then applies this function to an RDD using the map transformation.def multiply_by_random(x):\n",
    "\n",
    "def multiply_by_random(x):\n",
    "\timport numpy as np\n",
    "    \n",
    "\treturn x * np.random.rand()\n",
    "    \n",
    "#This last line multiplies the input element x by a random number generated by np.random.rand().\n",
    "# np.random.rand() returns a random float in the range [0.0, 1.0).\n",
    "\n",
    "my_new_rdd.map(lambda element : multiply_by_random(element)).collect()\n"
   ]
  },
  {
   "cell_type": "markdown",
   "id": "6e6748e8-0667-4fe1-932b-41c0db7414a0",
   "metadata": {},
   "source": [
    "map() method is a transformation that applies a function to each element of the RDD.\n",
    "The lambda function lambda element : multiply_by_random(element) takes each element of the RDD and applies the multiply_by_random function to it.\n",
    "\n",
    "Alright! This seems to have worked. but is it the best way to go about doing this? Remember, the map method applies whatever function you pass to it to every single element of each partition!\n",
    "\n",
    "Does that mean we are importing numpy 100 times in this example? Yes, it does.\n",
    "\n",
    "This is a good way to proceed into another very useful Transformation in the RDD API:\n"
   ]
  },
  {
   "cell_type": "code",
   "execution_count": 20,
   "id": "ede1eada-da30-48a2-adea-6579ce912248",
   "metadata": {},
   "outputs": [
    {
     "data": {
      "text/plain": [
       "[0.0,\n",
       " 0.0006420913277973483,\n",
       " 0.005413505116012295,\n",
       " 0.0036835932297477076,\n",
       " 0.035147944004453,\n",
       " 0.0058057735724303,\n",
       " 0.05877923542836736,\n",
       " 0.03160158096465221,\n",
       " 0.06967279128993041,\n",
       " 0.054005501820067504,\n",
       " 0.017327105353854295,\n",
       " 0.011777305579379135,\n",
       " 0.007499235990222014,\n",
       " 0.11631479878530236,\n",
       " 0.11545088682086957,\n",
       " 0.14982690433642673,\n",
       " 0.12243675426075418,\n",
       " 0.0472953133941451,\n",
       " 0.07113057542906155,\n",
       " 0.04185325846479681,\n",
       " 0.019715014391753015,\n",
       " 0.039586059528881674,\n",
       " 0.0448821952736188,\n",
       " 0.22254719044491159,\n",
       " 0.03550950773879934,\n",
       " 0.00027961650804080127,\n",
       " 0.15531602331420274,\n",
       " 0.1850270874273684,\n",
       " 0.11497642534749183,\n",
       " 0.2865182960559578,\n",
       " 0.2215599719104101,\n",
       " 0.25909242656991643,\n",
       " 0.23859557893595518,\n",
       " 0.1215007225029264,\n",
       " 0.32993533209760273,\n",
       " 0.3277326839953978,\n",
       " 0.03808260073704731,\n",
       " 0.1365252776019683,\n",
       " 0.10146061591735347,\n",
       " 0.2753102081792687,\n",
       " 0.026516793413697056,\n",
       " 0.057696444671271475,\n",
       " 0.2345593688181751,\n",
       " 0.1495624430585001,\n",
       " 0.2519548151138189,\n",
       " 0.4449523276760417,\n",
       " 0.08458615920622982,\n",
       " 0.06473760324679975,\n",
       " 0.11397893110036417,\n",
       " 0.0014082641122318096,\n",
       " 0.42632845743068515,\n",
       " 0.1993872089171935,\n",
       " 0.07220390049073151,\n",
       " 0.0886289826615188,\n",
       " 0.11300902221481657,\n",
       " 0.40762490273055313,\n",
       " 0.559265861614071,\n",
       " 0.4732916092320467,\n",
       " 0.5191757229953203,\n",
       " 0.036312834514926645,\n",
       " 0.07497466190403668,\n",
       " 0.014049675006297705,\n",
       " 0.5972843349157204,\n",
       " 0.20372681834273812,\n",
       " 0.13568004837546327,\n",
       " 0.45486809614996787,\n",
       " 0.23428474088711088,\n",
       " 0.2607101200984073,\n",
       " 0.43419485065781893,\n",
       " 0.4129544801039907,\n",
       " 0.17527554029694953,\n",
       " 0.003843969574093886,\n",
       " 0.34984333416569213,\n",
       " 0.024593832517809958,\n",
       " 0.2554217585489877,\n",
       " 0.34929560981804114,\n",
       " 0.3235884177823879,\n",
       " 0.0038537486923197043,\n",
       " 0.7826100077201983,\n",
       " 0.716884088474103,\n",
       " 0.025028784032176808,\n",
       " 0.4988598692559771,\n",
       " 0.8278259844794977,\n",
       " 0.14162568927772684,\n",
       " 0.20834175415718706,\n",
       " 0.7624011513836655,\n",
       " 0.26797113748015583,\n",
       " 0.25376809035053366,\n",
       " 0.5465901915058068,\n",
       " 0.6009580284041247,\n",
       " 0.6080406400918454,\n",
       " 0.1993348690771117,\n",
       " 0.34944999327990456,\n",
       " 0.8702131538668462,\n",
       " 0.8807463723183621,\n",
       " 0.3395819500135709,\n",
       " 0.6223485652803887,\n",
       " 0.5690045148859574,\n",
       " 0.7674822971283835,\n",
       " 0.9007459640050136]"
      ]
     },
     "execution_count": 20,
     "metadata": {},
     "output_type": "execute_result"
    }
   ],
   "source": [
    "def partition_multiply_by_random(x):\n",
    "\timport numpy as np\n",
    "\n",
    "    # The next line creates a new list by iterating over each element in the partition x.\n",
    "    #For each element, it multiplies the element by a random number generated by np.random.rand().\n",
    "    # np.random.rand() returns a random float in the range [0.0, 1.0).\n",
    "    \n",
    "\toutput = [element * np.random.rand() for element in x]\n",
    "    \n",
    "\treturn output\n",
    "\n",
    "#The next lambda function lambda partition : partition_multiply_by_random(partition) takes a partition\n",
    "# and then applies the partition_multiply_by_random function to it.\n",
    "\n",
    "my_new_rdd.mapPartitions\\\n",
    "(lambda partition : partition_multiply_by_random(partition)).\\\n",
    "collect()\n"
   ]
  },
  {
   "cell_type": "markdown",
   "id": "a8760f9c-9db0-41a8-8173-203599f99124",
   "metadata": {},
   "source": [
    "This code defines a function that multiplies elements in a partition by random numbers and then applies this function to an RDD using the mapPartitions transformation. Instead of applying a function to each element individually (like map), mapPartitions allows you to work with a whole partition at once. This can be more efficient for certain operations. \n",
    "\n",
    "The mapPartition method applies whatever function you pass to it to each Partition, but with one caveat: whatever your function does, it must iterate through the elements of the input Partition. So in practice, this method also applies your function to the elements of a Partition, but it allows you more flexibility to do things like importing libraries only once per partition... or anything else that you don't need done repeatedly for each element of a partition."
   ]
  },
  {
   "cell_type": "markdown",
   "id": "3251de1b-c334-44ab-91b5-95e40c0bfb62",
   "metadata": {},
   "source": [
    "If your code imports libraries, you need to make sure they are installed on every node of your cluster! Generally, that means asking your system administrator to do it for you. "
   ]
  },
  {
   "cell_type": "markdown",
   "id": "40e7cd0b-2a85-4f76-a137-65176405667d",
   "metadata": {},
   "source": [
    "Exercise 2.2 \n",
    "Create two random numpy arrays each with 1000 elements. Use PySpark, write a parallel code to calculate the summation of each element of these arrays (we need just one single value as the total sum). Compare the computational speed of parallel code with a simple summation code without parallelization. \n",
    "\n",
    "Suggestion: For parallel part, you can use reduce() method action which can aggregates the elements of an RDD, you can combine it with a specific lambda function to perform the summation for you.\n"
   ]
  },
  {
   "cell_type": "code",
   "execution_count": 14,
   "id": "a58d8a58-bdb9-45bd-b2e0-1717fd94ee89",
   "metadata": {},
   "outputs": [
    {
     "name": "stdout",
     "output_type": "stream",
     "text": [
      "Sum (Non-Parallel): 980.4381053007403\n",
      "Non-Parallel Runtime: 0.0 seconds\n"
     ]
    }
   ],
   "source": [
    "## Exercise 2.2 Solution (non-parallel code)\n",
    "# Create random NumPy arrays\n",
    "import time \n",
    "import numpy as np\n",
    "start_time_np = time.time()  # Record start time\n",
    "arr1 = np.random.rand(1000)\n",
    "arr2 = np.random.rand(1000)\n",
    "\n",
    "# Non-parallel summation\n",
    "sum_non_parallel = np.sum(arr1) + np.sum(arr2)\n",
    "\n",
    "print(\"Sum (Non-Parallel):\", sum_non_parallel)\n",
    "end_time_np = time.time()  # Record end time\n",
    "\n",
    "non_parallel_time = end_time_np - start_time_np\n",
    "print(\"Non-Parallel Runtime:\", non_parallel_time, \"seconds\")"
   ]
  },
  {
   "cell_type": "code",
   "execution_count": 16,
   "id": "89f381d2-88aa-460f-8a89-9a95a1dad9ae",
   "metadata": {},
   "outputs": [
    {
     "name": "stdout",
     "output_type": "stream",
     "text": [
      "Sum (Parallel - PySpark): 980.4381053007411\n",
      "Parallel Runtime: 9.7750883102417 seconds\n"
     ]
    }
   ],
   "source": [
    "#Exercise 2.2 solution (parallel code)\n",
    "import time\n",
    "start_time = time.time()  # Record start time\n",
    "\n",
    "# Simulate creating random NumPy arrays on Spark workers\n",
    "data = [arr1, arr2]\n",
    "#print(data)\n",
    "  # Create Spark RDD from data\n",
    "rdd = sc.parallelize(data)\n",
    "\n",
    "#define sum function\n",
    "def p_sum(x):\n",
    "\t\t\n",
    "\treturn sum(x)\n",
    "\n",
    "\n",
    "# This line will perform a parallel sum of elements in an RDD\n",
    "\n",
    "sum_parallel = rdd.map(p_sum).reduce(lambda a, b: a + b)\n",
    "\n",
    "print(\"Sum (Parallel - PySpark):\", sum_parallel)\n",
    "\n",
    "end_time = time.time()  # Record end time\n",
    "\n",
    "parallel_time = end_time - start_time\n",
    "print(\"Parallel Runtime:\", parallel_time, \"seconds\")"
   ]
  },
  {
   "cell_type": "markdown",
   "id": "c8de181e-c064-4c42-81e0-33f49ede4b47",
   "metadata": {},
   "source": [
    "Explanation of sum_parallel = rdd.map(p_sum).reduce(lambda a, b: a + b): \n",
    "\n",
    "The reduce action aggregates the elements of the RDD using a specified binary operator, in this case, a lambda function that adds two values. Here, lambda a, b: a + b is a simple function that takes two arguments (a and b) and returns their sum. This function is used by reduce() to combine elements of the RDD.\n",
    "\n",
    "Initial RDD: rdd contains the original data that you want to process and sum.\n",
    "map(p_sum): This applies the p_sum function to each element of rdd. The result is a new RDD where each element has been transformed by the p_sum function.\n",
    "reduce(lambda a, b: a + b): The reduce function takes the transformed RDD and applies the lambda function lambda a, b: a + b to aggregate the elements. The lambda function is repeatedly applied to pairs of elements until a single aggregated value (the sum of all elements) is produced.This reduction operation is performed in parallel across the distributed RDD, taking advantage of Spark's distributed computing capabilities."
   ]
  },
  {
   "cell_type": "markdown",
   "id": "678dcc65-b7de-4b45-a76b-78398889ab55",
   "metadata": {},
   "source": [
    "Directed Acyclic Graphs\n",
    "\n",
    "Now let's look at what Spark is actually doing when Executors perform work on subsets of your dataset in parallel. In the previous section we discussed how RDDs provide a way for the user to work with data scattered across nodes of a cluster transparently, without caring where data points are physically located. Executors then operate somewhat independently over separate chunks of your overall dataset, called Partitions. We had also previously mentioned that the role of the Driver Process is to translate your code into a representation that allows Spark to divide up tasks among multiple executors. That representation was called a Directed Acyclic Graph (DAG) and we will discuss how that ties together with RDDs to enable Spark to fulfill its promise of providing a user-friendly distributed computing platform.\n",
    "\n",
    "The first API we showed you how to use in this lesson was the Spark Core API. Also known as the RDD API, it is at the base of all other Spark APIs. Spark Core is essentially made up of a set of fundamental operations geared towards parallelizing or vectorizing arbitrary work that you want done over a given dataset. These fundamental operations can be stacked, chained, or otherwise composed into very complex sequences of steps of computations to be done over a dataset. Unlike \"regular programming\" though, all these fundamental operations are functions, which can only take other functions as their arguments. The RDD API is a functional programming framework.\n",
    "\n",
    "To illustrate these ideas, let's have a look at what a \"Word Count\" program looks like in Spark:\n"
   ]
  },
  {
   "cell_type": "code",
   "execution_count": 5,
   "id": "1f110763-c116-42e6-a43a-75c0f2f1bcf7",
   "metadata": {},
   "outputs": [
    {
     "name": "stdout",
     "output_type": "stream",
     "text": [
      "words: 1\n",
      "test: 1\n",
      "Spark: 1\n",
      "ADI: 1\n",
      "is: 1\n",
      "document: 1\n",
      "This: 1\n",
      "a: 2\n",
      "therefore: 1\n",
      "an: 1\n",
      "to: 1\n",
      "example: 1\n",
      "Therefore: 2\n",
      "RDD: 1\n",
      "includes: 1\n",
      "few: 2\n"
     ]
    }
   ],
   "source": [
    "#Word count program using PySpark!\n",
    "import pyspark\n",
    "from pyspark import SparkContext\n",
    "\n",
    "# Initialize SparkContext\n",
    "sc = SparkContext(\"local\", \"WordCountApp\")\n",
    "\n",
    "# Read input file\n",
    "input_file = sc.textFile(\"test.txt\", minPartitions=12)\n",
    "\n",
    "\n",
    "# Process data: split lines into words, map each word to a (word, 1) pair, and reduce by key to count occurrences\n",
    "word_counts = input_file.flatMap(lambda line: line.split()) \\\n",
    "                        .map(lambda word: (word, 1)) \\\n",
    "                        .reduceByKey(lambda a, b: a + b)\n",
    "\n",
    "# Collect the result and print each word with its count\n",
    "for word, count in word_counts.collect():\n",
    "    print(f\"{word}: {count}\")\n",
    "\n",
    "# Stop SparkContext\n",
    "sc.stop()"
   ]
  },
  {
   "cell_type": "markdown",
   "id": "c25d8546-f523-45b9-a309-814da042f11b",
   "metadata": {},
   "source": [
    "Code explanation:\n",
    "\n",
    "sc = SparkContext(\"local\", \"WordCountApp\"): Here, Local is the deployment mode passed to the SparkContext constructor. It specifies that you're running Spark in local mode. Local mode means all the Spark computations will happen on the same machine where your Python script is running, using a single thread. This isn't ideal for large datasets as it doesn't leverage the potential parallelism of multiple cores or a distributed cluster. \"WordCountApp\": This is the application name assigned to your Spark application. It's used for identification and logging purposes. You can choose any descriptive name for your application.\n",
    "\n",
    "input_file = sc.textFile(\"test.txt\"): This reads a text file named test.txt into an RDD (Resilient Distributed Dataset) named input_file. Each line in the text file becomes an element in the RDD.\n",
    "\n",
    "word_counts = input_file.flatMap(lambda line: line.split()).map(lambda word: (word, 1))               .reduceByKey(lambda a, b: a + b)\n",
    "                        \n",
    "This code processes the input data in three main steps:\n",
    "\n",
    "* flatMap(lambda line: line.split()): flatMap Transformation: This splits each line into words. Lambda Function: lambda line: line.split() splits each line into a list of words. Output: The result is a flattened RDD where each word from each line is an individual element.\n",
    "\n",
    "* map(lambda word: (word, 1)): map Transformation: This maps each word to a key-value pair (word, 1). Lambda Function: lambda word: (word, 1) creates a tuple for each word, with the word itself as the key and 1 as the value. Output: The result is an RDD of tuples where each word is paired with the number 1.\n",
    "\n",
    "* reduceByKey(lambda a, b: a + b): reduceByKey Transformation: This reduces the tuples by their key (word) by summing the values. Lambda Function: lambda a, b: a + b adds the values of tuples with the same key. Output: The result is an RDD of tuples where each word is paired with its total count."
   ]
  },
  {
   "cell_type": "markdown",
   "id": "7a67bde1-8527-4822-aed2-38fd36f889d9",
   "metadata": {},
   "source": [
    "You could very naturally describe what the code is doing like this:\n",
    "\n",
    "* Read in the text file\n",
    "* Go through all lines of text and break them down into a list of all words in the file \n",
    "* take each word on the list and put it in a tuple along with the number 1\n",
    "* group together the tuples that contain the same word and sum all the number 1s\n",
    "\n",
    "Here is a cleaner way of writing down the exact same description:\n"
   ]
  },
  {
   "attachments": {
    "1e83d0d5-b3ea-40e5-89dc-9c3e12238839.png": {
     "image/png": "[encoded data removed]"
    }
   },
   "cell_type": "markdown",
   "id": "14f7a6e0-1b3b-4f7f-931a-7d2b1cca1b1e",
   "metadata": {},
   "source": [
    "![weww.png](attachment:1e83d0d5-b3ea-40e5-89dc-9c3e12238839.png)"
   ]
  },
  {
   "cell_type": "markdown",
   "id": "adab57c3-4269-4ffb-8174-1a00ac6fd145",
   "metadata": {},
   "source": [
    "When we visualize the sequence of steps in this way, a few things that were hidden come to the forefront. Notice how the computation is broken down into two stages. That simply means the operations on the second stage can only start being carried out once the last operation of the first stage is finished being computed. In other words, the second stage depends on the results of the first being completely computed for it to be able to start.\n",
    "\n",
    "But what about the operations inside the first stage? Remember Spark will apply these operations to separate partitions of your dataset in parallel. That means that as soon as one of these operations is done being computed over a partition of the data, the next operation can start on that same partition regardless of what is happening with the other partitions! You don't necessarily need to wait for FlatMap to be applied to the entire dataset before you start computing the map! So even though you see the operations in sequence on that diagram, in practice different partitions, in practice Spark may be assigning different computation tasks over different partitions of a dataset within different Executors!\n",
    "\n",
    "This diagram that allows Spark to \"decide\" which operations can be carried out in parallel and which ones must wait for the results of preceding operations is called a Directed Acyclic Graph, and it is exactly the representation that the Driver Process will create based on your code!\n"
   ]
  },
  {
   "cell_type": "markdown",
   "id": "da516c2b-74d6-4a69-9ebd-542f87570a81",
   "metadata": {},
   "source": [
    "Exercise 2.3\n",
    "Download the following text file:\n",
    "\n",
    "GOT.txt\n",
    "\n",
    "Write a parallel program using PySpark to count the number of times word “Westeros” has been used in the text file. Use 6 to 18 partitions to parallel the search and Find out how long it took for the program to run.\n",
    "\n",
    "Suggestion: to use a specific number of partitions, you can specify minPartitions=X as an extra argument when reading the input file. For example for 4 partitions: input_file = sc.textFile(\"GOT.txt\", minPartitions=4)\n",
    "\n"
   ]
  },
  {
   "cell_type": "code",
   "execution_count": 3,
   "id": "af058a1a-99b5-4211-809f-59366f7a87ed",
   "metadata": {},
   "outputs": [
    {
     "name": "stdout",
     "output_type": "stream",
     "text": [
      "number of partitions: 4\n",
      "Westeros: 4\n",
      "Parallel Runtime: 8.105057001113892 seconds\n"
     ]
    }
   ],
   "source": [
    "#Word count program using PySpark to count the word \"king\" in the text\n",
    "import pyspark\n",
    "from pyspark import SparkContext\n",
    "import time\n",
    "start_time = time.time()  # Record start time\n",
    "   \n",
    "# Initialize SparkContext\n",
    "sc = SparkContext(\"local\", \"WordCountApp\")\n",
    "\n",
    "# Read input file\n",
    "input_file = sc.textFile(\"GOT.txt\", minPartitions=4)\n",
    "\n",
    "\n",
    "# Process data: split lines into words, map each word to a (word, 1) pair, and reduce by key to count occurrences\n",
    "word_counts = input_file.flatMap(lambda line: line.split()) \\\n",
    "                        .map(lambda word: (word, 1)) \\\n",
    "                        .reduceByKey(lambda a, b: a + b)\n",
    "\n",
    "print(\"number of partitions:\", input_file.getNumPartitions())\n",
    "# Collect the result and print each word with its count\n",
    "\n",
    "for word, count in word_counts.collect():\n",
    "    if word == 'Westeros': \n",
    "        print(f\"{word}: {count}\")\n",
    "    \n",
    "# Stop SparkContext\n",
    "sc.stop()\n",
    "end_time = time.time()  # Record end time\n",
    "\n",
    "parallel_time = end_time - start_time\n",
    "print(\"Parallel Runtime:\", parallel_time, \"seconds\")"
   ]
  },
  {
   "cell_type": "markdown",
   "id": "2a148fd5-4799-4b3e-9f77-f317751665fc",
   "metadata": {},
   "source": [
    "In the next session, we will learn how to use Spark Sessions instead of Spark context and also we will start to work with Pandas on Spark API to analyze large dataframes."
   ]
  }
 ],
 "metadata": {
  "kernelspec": {
   "display_name": "Python 3 (ipykernel)",
   "language": "python",
   "name": "python3"
  },
  "language_info": {
   "codemirror_mode": {
    "name": "ipython",
    "version": 3
   },
   "file_extension": ".py",
   "mimetype": "text/x-python",
   "name": "python",
   "nbconvert_exporter": "python",
   "pygments_lexer": "ipython3",
   "version": "3.11.7"
  }
 },
 "nbformat": 4,
 "nbformat_minor": 5
}
